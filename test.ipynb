{
 "cells": [
  {
   "cell_type": "code",
   "execution_count": 4556,
   "metadata": {},
   "outputs": [],
   "source": [
    "import numpy as np\n",
    "import sklearn\n",
    "from sklearn.preprocessing import StandardScaler\n",
    "from sklearn.model_selection import train_test_split\n",
    "from sklearn.cluster import KMeans\n",
    "import pandas as pd\n",
    "import matplotlib.pyplot as plt\n",
    "from sklearn.metrics import pairwise_distances_argmin_min"
   ]
  },
  {
   "cell_type": "code",
   "execution_count": 4557,
   "metadata": {},
   "outputs": [],
   "source": [
    "f_matrix = np.load(\"FeatureMatrix.npy\")\n",
    "lmbd =6\n"
   ]
  },
  {
   "cell_type": "code",
   "execution_count": 4558,
   "metadata": {},
   "outputs": [
    {
     "data": {
      "text/plain": [
       "(4955, 216)"
      ]
     },
     "execution_count": 4558,
     "metadata": {},
     "output_type": "execute_result"
    }
   ],
   "source": [
    "f_matrix.shape"
   ]
  },
  {
   "cell_type": "code",
   "execution_count": 4559,
   "metadata": {},
   "outputs": [],
   "source": [
    "isZero = np.all(f_matrix == 0, axis=1)\n",
    "#axis 1 rows\n",
    "#deleteFullZero = f_matrix[~numpy.all(a== 0, axis=1)] "
   ]
  },
  {
   "cell_type": "code",
   "execution_count": 4560,
   "metadata": {},
   "outputs": [],
   "source": [
    "x_matrix = np.load(\"X_input.npy\")\n",
    "y_vector = np.load(\"Y_input.npy\")"
   ]
  },
  {
   "cell_type": "code",
   "execution_count": 4561,
   "metadata": {},
   "outputs": [
    {
     "data": {
      "text/plain": [
       "(4955, 216)"
      ]
     },
     "execution_count": 4561,
     "metadata": {},
     "output_type": "execute_result"
    }
   ],
   "source": [
    "x_matrix.shape"
   ]
  },
  {
   "cell_type": "code",
   "execution_count": 4562,
   "metadata": {},
   "outputs": [],
   "source": [
    "zeros = np.where(~x_matrix.any(axis=0))[0]"
   ]
  },
  {
   "cell_type": "code",
   "execution_count": 4563,
   "metadata": {},
   "outputs": [
    {
     "data": {
      "text/plain": [
       "array([  9,  21,  22,  23,  24,  25,  26,  27,  30,  31,  32,  33,  34,\n",
       "        35,  36,  37,  38,  39,  42,  44,  45,  46,  47,  48,  51,  53,\n",
       "        54,  55,  56,  58,  59,  60,  61,  62,  63,  64,  65,  66,  67,\n",
       "        68,  70,  71,  72,  73,  74,  75,  76,  77,  78,  79,  82,  83,\n",
       "        84,  87,  88,  89,  90,  91,  92,  94,  95,  97,  98,  99, 100,\n",
       "       101, 103, 104, 105, 106, 108, 110, 111, 113, 114, 116, 117, 118,\n",
       "       119, 120, 121, 122, 124, 126, 127, 129, 130, 132, 134, 135, 136,\n",
       "       137, 139, 140, 141, 142, 143, 144, 145, 146, 147, 148, 149, 151,\n",
       "       152, 153, 154, 155, 156, 157, 158, 159, 160, 163, 164, 165, 168,\n",
       "       169, 170, 171, 172, 173, 175, 176, 178, 179, 180, 181, 182, 184,\n",
       "       185, 186, 187, 189, 191, 192, 194, 195, 197, 198, 199, 200, 201,\n",
       "       202, 203, 205, 207, 208, 210, 211, 213, 215])"
      ]
     },
     "execution_count": 4563,
     "metadata": {},
     "output_type": "execute_result"
    }
   ],
   "source": [
    "zeros\n"
   ]
  },
  {
   "cell_type": "code",
   "execution_count": 4564,
   "metadata": {},
   "outputs": [],
   "source": [
    "t = np.delete(x_matrix,zeros,axis=1)"
   ]
  },
  {
   "cell_type": "code",
   "execution_count": 4565,
   "metadata": {},
   "outputs": [
    {
     "data": {
      "text/plain": [
       "(4955, 64)"
      ]
     },
     "execution_count": 4565,
     "metadata": {},
     "output_type": "execute_result"
    }
   ],
   "source": [
    "t.shape"
   ]
  },
  {
   "cell_type": "code",
   "execution_count": 4566,
   "metadata": {},
   "outputs": [],
   "source": [
    "scaler = StandardScaler()"
   ]
  },
  {
   "cell_type": "code",
   "execution_count": 4567,
   "metadata": {},
   "outputs": [],
   "source": [
    "arr = scaler.fit_transform(t)\n"
   ]
  },
  {
   "cell_type": "code",
   "execution_count": 4568,
   "metadata": {},
   "outputs": [
    {
     "data": {
      "text/plain": [
       "4954"
      ]
     },
     "execution_count": 4568,
     "metadata": {},
     "output_type": "execute_result"
    }
   ],
   "source": [
    "y = [i for i in range(4955)]\n",
    "y[-1]"
   ]
  },
  {
   "cell_type": "code",
   "execution_count": 4569,
   "metadata": {},
   "outputs": [],
   "source": [
    "arr_train, arr_test, y_train, y_test = train_test_split(arr,y, test_size=0.2, random_state = 42 )\n",
    "#42 used in macOS"
   ]
  },
  {
   "cell_type": "markdown",
   "metadata": {},
   "source": [
    "Algo1 : K-Means Clustering (n = 3,5,8 clusters will be tested)"
   ]
  },
  {
   "cell_type": "code",
   "execution_count": 4570,
   "metadata": {},
   "outputs": [],
   "source": [
    "arr_train_alg1 = np.copy(arr_train)\n",
    "arr_test_alg1 = np.copy(arr_test)"
   ]
  },
  {
   "cell_type": "code",
   "execution_count": 4571,
   "metadata": {},
   "outputs": [],
   "source": [
    "#fit predict train \n",
    "#predict test"
   ]
  },
  {
   "cell_type": "code",
   "execution_count": 4572,
   "metadata": {},
   "outputs": [],
   "source": [
    "kmeans = KMeans(n_clusters=9, random_state=15).fit(arr_train_alg1)"
   ]
  },
  {
   "cell_type": "code",
   "execution_count": 4573,
   "metadata": {},
   "outputs": [],
   "source": [
    "tr_p1 = kmeans.predict(arr_train_alg1)"
   ]
  },
  {
   "cell_type": "code",
   "execution_count": 4574,
   "metadata": {},
   "outputs": [],
   "source": [
    "tes_p1 = kmeans.predict(arr_test_alg1)"
   ]
  },
  {
   "cell_type": "code",
   "execution_count": 4575,
   "metadata": {},
   "outputs": [],
   "source": [
    "\n",
    "df_alg1 = pd.DataFrame({\"x_ind\":[0]*4955, \"cluster\":[0]*4955,\"centroid\":[0]*4955, \"train/test\":[0]*4955, \"lambda\":[0]*4955, \"rf\":[0]*4955, \"error\":[0.0]*4955, \"parent_ind\":[int(-1)]*4955})\n",
    "df_alg1[\"rf\"] = y_vector"
   ]
  },
  {
   "cell_type": "code",
   "execution_count": 4576,
   "metadata": {},
   "outputs": [
    {
     "data": {
      "text/plain": [
       "[0.4666666666666667,\n",
       " 0.13333333333333333,\n",
       " 0.13333333333333333,\n",
       " 0.0,\n",
       " 0.13333333333333333,\n",
       " 0.4666666666666667,\n",
       " 0.13333333333333333,\n",
       " 0.06666666666666667,\n",
       " 0.26666666666666666]"
      ]
     },
     "execution_count": 4576,
     "metadata": {},
     "output_type": "execute_result"
    }
   ],
   "source": [
    "closest, _ = pairwise_distances_argmin_min(kmeans.cluster_centers_,arr_train_alg1 )\n",
    "c_y = []\n",
    "for i in closest:\n",
    "    c_y.append(y_vector[y_train[i]])\n",
    "c_y"
   ]
  },
  {
   "cell_type": "code",
   "execution_count": 4577,
   "metadata": {},
   "outputs": [
    {
     "data": {
      "text/html": [
       "<div>\n",
       "<style scoped>\n",
       "    .dataframe tbody tr th:only-of-type {\n",
       "        vertical-align: middle;\n",
       "    }\n",
       "\n",
       "    .dataframe tbody tr th {\n",
       "        vertical-align: top;\n",
       "    }\n",
       "\n",
       "    .dataframe thead th {\n",
       "        text-align: right;\n",
       "    }\n",
       "</style>\n",
       "<table border=\"1\" class=\"dataframe\">\n",
       "  <thead>\n",
       "    <tr style=\"text-align: right;\">\n",
       "      <th></th>\n",
       "      <th>x_ind</th>\n",
       "      <th>cluster</th>\n",
       "      <th>centroid</th>\n",
       "      <th>train/test</th>\n",
       "      <th>lambda</th>\n",
       "      <th>rf</th>\n",
       "      <th>error</th>\n",
       "      <th>parent_ind</th>\n",
       "    </tr>\n",
       "  </thead>\n",
       "  <tbody>\n",
       "    <tr>\n",
       "      <th>0</th>\n",
       "      <td>0</td>\n",
       "      <td>2</td>\n",
       "      <td>0</td>\n",
       "      <td>0</td>\n",
       "      <td>1</td>\n",
       "      <td>0.000000</td>\n",
       "      <td>0.133333</td>\n",
       "      <td>421</td>\n",
       "    </tr>\n",
       "    <tr>\n",
       "      <th>1</th>\n",
       "      <td>1</td>\n",
       "      <td>2</td>\n",
       "      <td>0</td>\n",
       "      <td>0</td>\n",
       "      <td>1</td>\n",
       "      <td>0.000000</td>\n",
       "      <td>0.133333</td>\n",
       "      <td>421</td>\n",
       "    </tr>\n",
       "    <tr>\n",
       "      <th>2</th>\n",
       "      <td>2</td>\n",
       "      <td>2</td>\n",
       "      <td>0</td>\n",
       "      <td>0</td>\n",
       "      <td>1</td>\n",
       "      <td>0.000000</td>\n",
       "      <td>0.133333</td>\n",
       "      <td>421</td>\n",
       "    </tr>\n",
       "    <tr>\n",
       "      <th>3</th>\n",
       "      <td>3</td>\n",
       "      <td>4</td>\n",
       "      <td>0</td>\n",
       "      <td>0</td>\n",
       "      <td>1</td>\n",
       "      <td>0.000000</td>\n",
       "      <td>0.133333</td>\n",
       "      <td>542</td>\n",
       "    </tr>\n",
       "    <tr>\n",
       "      <th>4</th>\n",
       "      <td>4</td>\n",
       "      <td>2</td>\n",
       "      <td>0</td>\n",
       "      <td>0</td>\n",
       "      <td>1</td>\n",
       "      <td>0.000000</td>\n",
       "      <td>0.133333</td>\n",
       "      <td>421</td>\n",
       "    </tr>\n",
       "    <tr>\n",
       "      <th>...</th>\n",
       "      <td>...</td>\n",
       "      <td>...</td>\n",
       "      <td>...</td>\n",
       "      <td>...</td>\n",
       "      <td>...</td>\n",
       "      <td>...</td>\n",
       "      <td>...</td>\n",
       "      <td>...</td>\n",
       "    </tr>\n",
       "    <tr>\n",
       "      <th>4950</th>\n",
       "      <td>4950</td>\n",
       "      <td>1</td>\n",
       "      <td>0</td>\n",
       "      <td>0</td>\n",
       "      <td>1</td>\n",
       "      <td>1.000000</td>\n",
       "      <td>-0.866667</td>\n",
       "      <td>4511</td>\n",
       "    </tr>\n",
       "    <tr>\n",
       "      <th>4951</th>\n",
       "      <td>4951</td>\n",
       "      <td>1</td>\n",
       "      <td>0</td>\n",
       "      <td>1</td>\n",
       "      <td>1</td>\n",
       "      <td>0.600000</td>\n",
       "      <td>-0.466667</td>\n",
       "      <td>4511</td>\n",
       "    </tr>\n",
       "    <tr>\n",
       "      <th>4952</th>\n",
       "      <td>4952</td>\n",
       "      <td>3</td>\n",
       "      <td>0</td>\n",
       "      <td>0</td>\n",
       "      <td>1</td>\n",
       "      <td>0.333333</td>\n",
       "      <td>-0.333333</td>\n",
       "      <td>456</td>\n",
       "    </tr>\n",
       "    <tr>\n",
       "      <th>4953</th>\n",
       "      <td>4953</td>\n",
       "      <td>1</td>\n",
       "      <td>0</td>\n",
       "      <td>1</td>\n",
       "      <td>1</td>\n",
       "      <td>0.333333</td>\n",
       "      <td>-0.200000</td>\n",
       "      <td>4511</td>\n",
       "    </tr>\n",
       "    <tr>\n",
       "      <th>4954</th>\n",
       "      <td>4954</td>\n",
       "      <td>7</td>\n",
       "      <td>0</td>\n",
       "      <td>0</td>\n",
       "      <td>1</td>\n",
       "      <td>0.466667</td>\n",
       "      <td>-0.400000</td>\n",
       "      <td>446</td>\n",
       "    </tr>\n",
       "  </tbody>\n",
       "</table>\n",
       "<p>4955 rows × 8 columns</p>\n",
       "</div>"
      ],
      "text/plain": [
       "      x_ind  cluster  centroid  train/test  lambda        rf     error  \\\n",
       "0         0        2         0           0       1  0.000000  0.133333   \n",
       "1         1        2         0           0       1  0.000000  0.133333   \n",
       "2         2        2         0           0       1  0.000000  0.133333   \n",
       "3         3        4         0           0       1  0.000000  0.133333   \n",
       "4         4        2         0           0       1  0.000000  0.133333   \n",
       "...     ...      ...       ...         ...     ...       ...       ...   \n",
       "4950   4950        1         0           0       1  1.000000 -0.866667   \n",
       "4951   4951        1         0           1       1  0.600000 -0.466667   \n",
       "4952   4952        3         0           0       1  0.333333 -0.333333   \n",
       "4953   4953        1         0           1       1  0.333333 -0.200000   \n",
       "4954   4954        7         0           0       1  0.466667 -0.400000   \n",
       "\n",
       "      parent_ind  \n",
       "0            421  \n",
       "1            421  \n",
       "2            421  \n",
       "3            542  \n",
       "4            421  \n",
       "...          ...  \n",
       "4950        4511  \n",
       "4951        4511  \n",
       "4952         456  \n",
       "4953        4511  \n",
       "4954         446  \n",
       "\n",
       "[4955 rows x 8 columns]"
      ]
     },
     "execution_count": 4577,
     "metadata": {},
     "output_type": "execute_result"
    }
   ],
   "source": [
    "for i,j in enumerate(tr_p1):\n",
    "    \n",
    "    df_alg1.loc[y_train[i], \"x_ind\"] = y_train[i]\n",
    "    df_alg1.loc[y_train[i], \"cluster\"] = j\n",
    "    if(i in closest):\n",
    "        df_alg1.loc[y_train[i], \"centroid\"] = 1\n",
    "    else:\n",
    "        df_alg1.loc[y_train[i], \"parent_ind\"] = y_train[closest[j]]\n",
    "        df_alg1.loc[y_train[i], \"lambda\"] += 1\n",
    "    \n",
    "    \n",
    "    \n",
    "    df_alg1.loc[y_train[i], \"error\"] =   c_y[j] - y_vector[y_train[i]]\n",
    "\n",
    "\n",
    "for i, j in enumerate(tes_p1):\n",
    "    df_alg1.loc[y_test[i], \"x_ind\"] = y_test[i]\n",
    "    df_alg1.loc[y_test[i], \"cluster\"] = j\n",
    "    df_alg1.loc[y_test[i], \"train/test\"] = 1\n",
    "    df_alg1.loc[y_test[i], \"lambda\"] += 1\n",
    "    df_alg1.loc[y_test[i], \"error\"]= c_y[j] - y_vector[y_test[i]]\n",
    "    df_alg1.loc[y_test[i], \"parent_ind\"] = y_train[closest[j]]\n",
    "\n",
    "    \n",
    "    \n",
    "\n",
    "    \n",
    "df_alg1"
   ]
  },
  {
   "cell_type": "markdown",
   "metadata": {},
   "source": []
  },
  {
   "cell_type": "code",
   "execution_count": 4578,
   "metadata": {},
   "outputs": [],
   "source": [
    "df_alg1.to_csv(\"data1_alg1_itf.csv\")"
   ]
  },
  {
   "cell_type": "code",
   "execution_count": 4579,
   "metadata": {},
   "outputs": [],
   "source": [
    "# df_it1 = df_alg1.loc[df_alg1['cluster']== 0]\n",
    "# df_it1.shape\n",
    "# df_it1 = df_it1.loc[df_alg1['parent_ind']>=0]\n",
    "# test_x= df_it1.loc[df_it1['train/test']==1]\n",
    "# train_x = df_it1.loc[df_it1['train/test']==0]\n",
    "\n",
    "# train_arr = np.zeros((train_x.shape[0], 64))\n",
    "# test_arr = np.zeros((test_x.shape[0],64))\n",
    "\n",
    "# for i in range(train_x.shape[0]):\n",
    "#     train_arr[i] = arr[int(train_x.iloc[i].x_ind)]\n",
    "# for i in range(test_x.shape[0]):\n",
    "#     test_arr[i] = arr[int(test_x.iloc[i].x_ind)]\n",
    "\n",
    "# #zrray is ready to train with coordinates\n",
    "# kmeans = KMeans(n_clusters=5, random_state=42).fit(train_arr)\n",
    "# tr_p2 = kmeans.predict(train_arr)\n",
    "# tes_p2 = kmeans.predict(test_arr)\n",
    "# closest2, _ = pairwise_distances_argmin_min(kmeans.cluster_centers_,train_arr)\n",
    "# closest2\n",
    "# tr_p2\n",
    "\n",
    "\n"
   ]
  },
  {
   "cell_type": "code",
   "execution_count": 4580,
   "metadata": {},
   "outputs": [],
   "source": [
    "clust_count = 5\n",
    "\n",
    "\n",
    "for k in range(1,lmbd+1):\n",
    "    \n",
    "    unqs = df_alg1.loc[df_alg1['lambda']==k]\n",
    "    unqs = unqs[\"parent_ind\"].unique()\n",
    "    tmp_df = df_alg1.loc[df_alg1['lambda']==k]\n",
    "    \n",
    "    for i in unqs:\n",
    "        tmp_df = df_alg1.loc[df_alg1['lambda']==k]\n",
    "        tmp_df = tmp_df[tmp_df['parent_ind']== i]\n",
    "\n",
    "        test_x= tmp_df.loc[tmp_df['train/test']==1]\n",
    "        train_x = tmp_df.loc[tmp_df['train/test']==0]\n",
    "\n",
    "        if(train_x.shape[0]<8):\n",
    "            continue\n",
    "\n",
    "        train_arr = np.zeros((train_x.shape[0], 64))\n",
    "\n",
    "        for j in range(train_x.shape[0]):\n",
    "            train_arr[j] = arr[int(train_x.iloc[j].x_ind)]\n",
    "        kmeans2 = KMeans(n_clusters=int(clust_count), random_state=15).fit(train_arr)\n",
    "        tr_p2 = kmeans2.predict(train_arr)\n",
    "        closest2, _ = pairwise_distances_argmin_min(kmeans2.cluster_centers_,train_arr)\n",
    "        c_y2 = []\n",
    "        for j in closest2:\n",
    "            c_y2.append(y_vector[int(train_x.iloc[j].x_ind)])\n",
    "\n",
    "\n",
    "        if(test_x.empty):\n",
    "            for x,y in enumerate(tr_p2):\n",
    "\n",
    "                df_alg1.loc[int(train_x.iloc[x].x_ind),\"cluster\"] = y\n",
    "\n",
    "            if(x in closest2):\n",
    "                df_alg1.loc[int(train_x.iloc[x].x_ind), \"centroid\"] = 1\n",
    "            \n",
    "            else:\n",
    "                df_alg1.loc[int(train_x.iloc[x].x_ind), \"parent_ind\"]= int(train_x.iloc[closest2[y]].x_ind)\n",
    "                df_alg1.loc[int(train_x.iloc[x].x_ind), \"lambda\"] += 1\n",
    "            \n",
    "            df_alg1.loc[int(train_x.iloc[x].x_ind), \"error\"] = c_y2[y]- y_vector[int(train_x.iloc[x].x_ind)]\n",
    "        \n",
    "\n",
    "           \n",
    "        \n",
    "        else:\n",
    "            \n",
    "            test_arr = np.zeros((test_x.shape[0],64))\n",
    "            for j in range(test_x.shape[0]):\n",
    "                test_arr[j] = arr[int(test_x.iloc[j].x_ind)]\n",
    "            tes_p2 = kmeans2.predict(test_arr)\n",
    "\n",
    "            for x,y in enumerate(tr_p2):\n",
    "\n",
    "                df_alg1.loc[int(train_x.iloc[x].x_ind),\"cluster\"] = y\n",
    "\n",
    "                if(x in closest2):\n",
    "                    df_alg1.loc[int(train_x.iloc[x].x_ind), \"centroid\"] = 1\n",
    "            \n",
    "                else:\n",
    "                    df_alg1.loc[int(train_x.iloc[x].x_ind), \"parent_ind\"]= int(train_x.iloc[closest2[y]].x_ind)\n",
    "                    df_alg1.loc[int(train_x.iloc[x].x_ind), \"lambda\"] += 1\n",
    "            \n",
    "                df_alg1.loc[int(train_x.iloc[x].x_ind), \"error\"] = c_y2[y]- y_vector[int(train_x.iloc[x].x_ind)]\n",
    "            \n",
    "            for x,y in enumerate(tes_p2):\n",
    "                df_alg1.loc[int(test_x.iloc[x].x_ind),\"cluster\"] = y\n",
    "                df_alg1.loc[int(test_x.iloc[x].x_ind), \"lambda\"] += 1\n",
    "                df_alg1.loc[int(test_x.iloc[x].x_ind), \"parent_ind\"]= int(train_x.iloc[closest2[y]].x_ind)\n",
    "                df_alg1.loc[int(test_x.iloc[x].x_ind), \"error\"] = c_y2[y]- y_vector[int(test_x.iloc[x].x_ind)]\n",
    "\n",
    "\n",
    "        \n",
    "    "
   ]
  },
  {
   "cell_type": "code",
   "execution_count": 4581,
   "metadata": {},
   "outputs": [
    {
     "data": {
      "text/html": [
       "<div>\n",
       "<style scoped>\n",
       "    .dataframe tbody tr th:only-of-type {\n",
       "        vertical-align: middle;\n",
       "    }\n",
       "\n",
       "    .dataframe tbody tr th {\n",
       "        vertical-align: top;\n",
       "    }\n",
       "\n",
       "    .dataframe thead th {\n",
       "        text-align: right;\n",
       "    }\n",
       "</style>\n",
       "<table border=\"1\" class=\"dataframe\">\n",
       "  <thead>\n",
       "    <tr style=\"text-align: right;\">\n",
       "      <th></th>\n",
       "      <th>x_ind</th>\n",
       "      <th>cluster</th>\n",
       "      <th>centroid</th>\n",
       "      <th>train/test</th>\n",
       "      <th>lambda</th>\n",
       "      <th>rf</th>\n",
       "      <th>error</th>\n",
       "      <th>parent_ind</th>\n",
       "    </tr>\n",
       "  </thead>\n",
       "  <tbody>\n",
       "    <tr>\n",
       "      <th>0</th>\n",
       "      <td>0</td>\n",
       "      <td>3</td>\n",
       "      <td>0</td>\n",
       "      <td>0</td>\n",
       "      <td>5</td>\n",
       "      <td>0.000000</td>\n",
       "      <td>0.000000</td>\n",
       "      <td>2004</td>\n",
       "    </tr>\n",
       "    <tr>\n",
       "      <th>1</th>\n",
       "      <td>1</td>\n",
       "      <td>1</td>\n",
       "      <td>1</td>\n",
       "      <td>0</td>\n",
       "      <td>3</td>\n",
       "      <td>0.000000</td>\n",
       "      <td>0.000000</td>\n",
       "      <td>301</td>\n",
       "    </tr>\n",
       "    <tr>\n",
       "      <th>2</th>\n",
       "      <td>2</td>\n",
       "      <td>1</td>\n",
       "      <td>0</td>\n",
       "      <td>0</td>\n",
       "      <td>5</td>\n",
       "      <td>0.000000</td>\n",
       "      <td>0.000000</td>\n",
       "      <td>112</td>\n",
       "    </tr>\n",
       "    <tr>\n",
       "      <th>3</th>\n",
       "      <td>3</td>\n",
       "      <td>1</td>\n",
       "      <td>1</td>\n",
       "      <td>0</td>\n",
       "      <td>3</td>\n",
       "      <td>0.000000</td>\n",
       "      <td>0.000000</td>\n",
       "      <td>123</td>\n",
       "    </tr>\n",
       "    <tr>\n",
       "      <th>4</th>\n",
       "      <td>4</td>\n",
       "      <td>1</td>\n",
       "      <td>0</td>\n",
       "      <td>0</td>\n",
       "      <td>5</td>\n",
       "      <td>0.000000</td>\n",
       "      <td>0.000000</td>\n",
       "      <td>14</td>\n",
       "    </tr>\n",
       "    <tr>\n",
       "      <th>...</th>\n",
       "      <td>...</td>\n",
       "      <td>...</td>\n",
       "      <td>...</td>\n",
       "      <td>...</td>\n",
       "      <td>...</td>\n",
       "      <td>...</td>\n",
       "      <td>...</td>\n",
       "      <td>...</td>\n",
       "    </tr>\n",
       "    <tr>\n",
       "      <th>4950</th>\n",
       "      <td>4950</td>\n",
       "      <td>3</td>\n",
       "      <td>0</td>\n",
       "      <td>0</td>\n",
       "      <td>4</td>\n",
       "      <td>1.000000</td>\n",
       "      <td>-0.133333</td>\n",
       "      <td>4830</td>\n",
       "    </tr>\n",
       "    <tr>\n",
       "      <th>4951</th>\n",
       "      <td>4951</td>\n",
       "      <td>2</td>\n",
       "      <td>0</td>\n",
       "      <td>1</td>\n",
       "      <td>4</td>\n",
       "      <td>0.600000</td>\n",
       "      <td>-0.466667</td>\n",
       "      <td>4641</td>\n",
       "    </tr>\n",
       "    <tr>\n",
       "      <th>4952</th>\n",
       "      <td>4952</td>\n",
       "      <td>2</td>\n",
       "      <td>0</td>\n",
       "      <td>0</td>\n",
       "      <td>4</td>\n",
       "      <td>0.333333</td>\n",
       "      <td>0.000000</td>\n",
       "      <td>4832</td>\n",
       "    </tr>\n",
       "    <tr>\n",
       "      <th>4953</th>\n",
       "      <td>4953</td>\n",
       "      <td>0</td>\n",
       "      <td>0</td>\n",
       "      <td>1</td>\n",
       "      <td>4</td>\n",
       "      <td>0.333333</td>\n",
       "      <td>0.000000</td>\n",
       "      <td>4843</td>\n",
       "    </tr>\n",
       "    <tr>\n",
       "      <th>4954</th>\n",
       "      <td>4954</td>\n",
       "      <td>4</td>\n",
       "      <td>1</td>\n",
       "      <td>0</td>\n",
       "      <td>2</td>\n",
       "      <td>0.466667</td>\n",
       "      <td>0.000000</td>\n",
       "      <td>4534</td>\n",
       "    </tr>\n",
       "  </tbody>\n",
       "</table>\n",
       "<p>4955 rows × 8 columns</p>\n",
       "</div>"
      ],
      "text/plain": [
       "      x_ind  cluster  centroid  train/test  lambda        rf     error  \\\n",
       "0         0        3         0           0       5  0.000000  0.000000   \n",
       "1         1        1         1           0       3  0.000000  0.000000   \n",
       "2         2        1         0           0       5  0.000000  0.000000   \n",
       "3         3        1         1           0       3  0.000000  0.000000   \n",
       "4         4        1         0           0       5  0.000000  0.000000   \n",
       "...     ...      ...       ...         ...     ...       ...       ...   \n",
       "4950   4950        3         0           0       4  1.000000 -0.133333   \n",
       "4951   4951        2         0           1       4  0.600000 -0.466667   \n",
       "4952   4952        2         0           0       4  0.333333  0.000000   \n",
       "4953   4953        0         0           1       4  0.333333  0.000000   \n",
       "4954   4954        4         1           0       2  0.466667  0.000000   \n",
       "\n",
       "      parent_ind  \n",
       "0           2004  \n",
       "1            301  \n",
       "2            112  \n",
       "3            123  \n",
       "4             14  \n",
       "...          ...  \n",
       "4950        4830  \n",
       "4951        4641  \n",
       "4952        4832  \n",
       "4953        4843  \n",
       "4954        4534  \n",
       "\n",
       "[4955 rows x 8 columns]"
      ]
     },
     "execution_count": 4581,
     "metadata": {},
     "output_type": "execute_result"
    }
   ],
   "source": [
    "\n",
    "df_alg1"
   ]
  },
  {
   "cell_type": "code",
   "execution_count": 4582,
   "metadata": {},
   "outputs": [],
   "source": [
    "def calc_val_depth(lambda_=5, train_test = False):\n",
    "    #If train_test is true it is test\n",
    "    if(train_test):\n",
    "        tmp_df = df_alg1[df_alg1[\"lambda\"]==lambda_]\n",
    "        tmp_df = tmp_df[tmp_df[\"train/test\"]==1]\n",
    "        max_rf = tmp_df[\"error\"].unique().max()\n",
    "        mean_rf = tmp_df[\"error\"].to_numpy().mean()\n",
    "        number_of_children = tmp_df.shape[0]\n",
    "\n",
    "    else:\n",
    "        tmp_df = df_alg1[df_alg1[\"lambda\"]==lambda_]\n",
    "        tmp_df = tmp_df[tmp_df[\"train/test\"]==0]\n",
    "        max_rf = tmp_df[\"error\"].unique().max()\n",
    "        mean_rf = tmp_df[\"error\"].to_numpy().mean()\n",
    "        number_of_children = tmp_df.shape[0]\n",
    "\n",
    "\n",
    "    return max_rf,mean_rf,number_of_children\n",
    "\n",
    "\n",
    "    \n",
    "    "
   ]
  },
  {
   "cell_type": "code",
   "execution_count": 4583,
   "metadata": {},
   "outputs": [],
   "source": [
    "def plot(lambda_=4):\n",
    "    tmp = df_alg1[df_alg1[\"lambda\"]==4]\n",
    "    temp = tmp[\"x_ind\"].to_numpy()\n",
    "    scatter =[]\n",
    "    for i in temp:\n",
    "        scatter.append(y_vector[i])\n",
    "    scatter.sort()\n",
    "    plt.plot(scatter)\n",
    "    plt.show()\n",
    "\n",
    "    \n",
    "    \n",
    "    "
   ]
  },
  {
   "cell_type": "code",
   "execution_count": 4589,
   "metadata": {},
   "outputs": [],
   "source": [
    "#tmp = df_alg1[df_alg1[\"lambda\"]==5]\n",
    "tmp = df_alg1[df_alg1[\"train/test\"]==0]\n",
    "l = tmp[\"error\"].to_numpy()"
   ]
  },
  {
   "cell_type": "code",
   "execution_count": 4590,
   "metadata": {},
   "outputs": [
    {
     "data": {
      "text/plain": [
       "(3964,)"
      ]
     },
     "execution_count": 4590,
     "metadata": {},
     "output_type": "execute_result"
    }
   ],
   "source": [
    "l = np.sort(l)\n",
    "l.shape"
   ]
  },
  {
   "cell_type": "code",
   "execution_count": 4591,
   "metadata": {},
   "outputs": [
    {
     "data": {
      "image/png": "[encoded data removed]",
      "text/plain": [
       "<Figure size 640x480 with 1 Axes>"
      ]
     },
     "metadata": {},
     "output_type": "display_data"
    }
   ],
   "source": [
    "plt.plot(l)\n",
    "plt.show()"
   ]
  },
  {
   "cell_type": "code",
   "execution_count": 4587,
   "metadata": {},
   "outputs": [],
   "source": [
    "tt = df_alg1[df_alg1[\"train/test\"]==1]"
   ]
  },
  {
   "cell_type": "code",
   "execution_count": 4588,
   "metadata": {},
   "outputs": [
    {
     "data": {
      "text/html": [
       "<div>\n",
       "<style scoped>\n",
       "    .dataframe tbody tr th:only-of-type {\n",
       "        vertical-align: middle;\n",
       "    }\n",
       "\n",
       "    .dataframe tbody tr th {\n",
       "        vertical-align: top;\n",
       "    }\n",
       "\n",
       "    .dataframe thead th {\n",
       "        text-align: right;\n",
       "    }\n",
       "</style>\n",
       "<table border=\"1\" class=\"dataframe\">\n",
       "  <thead>\n",
       "    <tr style=\"text-align: right;\">\n",
       "      <th></th>\n",
       "      <th>x_ind</th>\n",
       "      <th>cluster</th>\n",
       "      <th>centroid</th>\n",
       "      <th>train/test</th>\n",
       "      <th>lambda</th>\n",
       "      <th>rf</th>\n",
       "      <th>error</th>\n",
       "      <th>parent_ind</th>\n",
       "    </tr>\n",
       "  </thead>\n",
       "  <tbody>\n",
       "    <tr>\n",
       "      <th>8</th>\n",
       "      <td>8</td>\n",
       "      <td>1</td>\n",
       "      <td>0</td>\n",
       "      <td>1</td>\n",
       "      <td>5</td>\n",
       "      <td>0.000000</td>\n",
       "      <td>0.000000</td>\n",
       "      <td>18</td>\n",
       "    </tr>\n",
       "    <tr>\n",
       "      <th>12</th>\n",
       "      <td>12</td>\n",
       "      <td>1</td>\n",
       "      <td>0</td>\n",
       "      <td>1</td>\n",
       "      <td>5</td>\n",
       "      <td>0.000000</td>\n",
       "      <td>0.000000</td>\n",
       "      <td>112</td>\n",
       "    </tr>\n",
       "    <tr>\n",
       "      <th>17</th>\n",
       "      <td>17</td>\n",
       "      <td>1</td>\n",
       "      <td>0</td>\n",
       "      <td>1</td>\n",
       "      <td>4</td>\n",
       "      <td>0.000000</td>\n",
       "      <td>0.000000</td>\n",
       "      <td>317</td>\n",
       "    </tr>\n",
       "    <tr>\n",
       "      <th>19</th>\n",
       "      <td>19</td>\n",
       "      <td>3</td>\n",
       "      <td>0</td>\n",
       "      <td>1</td>\n",
       "      <td>4</td>\n",
       "      <td>0.000000</td>\n",
       "      <td>0.066667</td>\n",
       "      <td>307</td>\n",
       "    </tr>\n",
       "    <tr>\n",
       "      <th>23</th>\n",
       "      <td>23</td>\n",
       "      <td>1</td>\n",
       "      <td>0</td>\n",
       "      <td>1</td>\n",
       "      <td>5</td>\n",
       "      <td>0.000000</td>\n",
       "      <td>0.000000</td>\n",
       "      <td>143</td>\n",
       "    </tr>\n",
       "    <tr>\n",
       "      <th>...</th>\n",
       "      <td>...</td>\n",
       "      <td>...</td>\n",
       "      <td>...</td>\n",
       "      <td>...</td>\n",
       "      <td>...</td>\n",
       "      <td>...</td>\n",
       "      <td>...</td>\n",
       "      <td>...</td>\n",
       "    </tr>\n",
       "    <tr>\n",
       "      <th>4932</th>\n",
       "      <td>4932</td>\n",
       "      <td>4</td>\n",
       "      <td>0</td>\n",
       "      <td>1</td>\n",
       "      <td>4</td>\n",
       "      <td>0.666667</td>\n",
       "      <td>0.000000</td>\n",
       "      <td>4752</td>\n",
       "    </tr>\n",
       "    <tr>\n",
       "      <th>4943</th>\n",
       "      <td>4943</td>\n",
       "      <td>0</td>\n",
       "      <td>0</td>\n",
       "      <td>1</td>\n",
       "      <td>4</td>\n",
       "      <td>0.400000</td>\n",
       "      <td>-0.066667</td>\n",
       "      <td>4843</td>\n",
       "    </tr>\n",
       "    <tr>\n",
       "      <th>4945</th>\n",
       "      <td>4945</td>\n",
       "      <td>0</td>\n",
       "      <td>0</td>\n",
       "      <td>1</td>\n",
       "      <td>5</td>\n",
       "      <td>0.866667</td>\n",
       "      <td>-0.200000</td>\n",
       "      <td>4835</td>\n",
       "    </tr>\n",
       "    <tr>\n",
       "      <th>4951</th>\n",
       "      <td>4951</td>\n",
       "      <td>2</td>\n",
       "      <td>0</td>\n",
       "      <td>1</td>\n",
       "      <td>4</td>\n",
       "      <td>0.600000</td>\n",
       "      <td>-0.466667</td>\n",
       "      <td>4641</td>\n",
       "    </tr>\n",
       "    <tr>\n",
       "      <th>4953</th>\n",
       "      <td>4953</td>\n",
       "      <td>0</td>\n",
       "      <td>0</td>\n",
       "      <td>1</td>\n",
       "      <td>4</td>\n",
       "      <td>0.333333</td>\n",
       "      <td>0.000000</td>\n",
       "      <td>4843</td>\n",
       "    </tr>\n",
       "  </tbody>\n",
       "</table>\n",
       "<p>991 rows × 8 columns</p>\n",
       "</div>"
      ],
      "text/plain": [
       "      x_ind  cluster  centroid  train/test  lambda        rf     error  \\\n",
       "8         8        1         0           1       5  0.000000  0.000000   \n",
       "12       12        1         0           1       5  0.000000  0.000000   \n",
       "17       17        1         0           1       4  0.000000  0.000000   \n",
       "19       19        3         0           1       4  0.000000  0.066667   \n",
       "23       23        1         0           1       5  0.000000  0.000000   \n",
       "...     ...      ...       ...         ...     ...       ...       ...   \n",
       "4932   4932        4         0           1       4  0.666667  0.000000   \n",
       "4943   4943        0         0           1       4  0.400000 -0.066667   \n",
       "4945   4945        0         0           1       5  0.866667 -0.200000   \n",
       "4951   4951        2         0           1       4  0.600000 -0.466667   \n",
       "4953   4953        0         0           1       4  0.333333  0.000000   \n",
       "\n",
       "      parent_ind  \n",
       "8             18  \n",
       "12           112  \n",
       "17           317  \n",
       "19           307  \n",
       "23           143  \n",
       "...          ...  \n",
       "4932        4752  \n",
       "4943        4843  \n",
       "4945        4835  \n",
       "4951        4641  \n",
       "4953        4843  \n",
       "\n",
       "[991 rows x 8 columns]"
      ]
     },
     "execution_count": 4588,
     "metadata": {},
     "output_type": "execute_result"
    }
   ],
   "source": [
    "tt"
   ]
  },
  {
   "cell_type": "code",
   "execution_count": null,
   "metadata": {},
   "outputs": [],
   "source": []
  }
 ],
 "metadata": {
  "kernelspec": {
   "display_name": "Python 3",
   "language": "python",
   "name": "python3"
  },
  "language_info": {
   "codemirror_mode": {
    "name": "ipython",
    "version": 3
   },
   "file_extension": ".py",
   "mimetype": "text/x-python",
   "name": "python",
   "nbconvert_exporter": "python",
   "pygments_lexer": "ipython3",
   "version": "3.11.6"
  },
  "orig_nbformat": 4
 },
 "nbformat": 4,
 "nbformat_minor": 2
}
